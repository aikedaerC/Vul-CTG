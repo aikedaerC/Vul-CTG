{
 "cells": [
  {
   "cell_type": "code",
   "execution_count": null,
   "id": "9a40d237",
   "metadata": {},
   "outputs": [
    {
     "name": "stdout",
     "output_type": "stream",
     "text": [
      "我是一个大型语言模型，由 Google 训练。\n",
      "\n"
     ]
    }
   ],
   "source": [
    "import google.generativeai as genai\n",
    "import os\n",
    "\n",
    "genai.configure(api_key=\"your_api_key\", transport=\"rest\")\n",
    "\n",
    "model = genai.GenerativeModel('gemini-2.0-flash')\n",
    "\n",
    "response = model.generate_content(\"你是谁？\")\n",
    "print(response.text)"
   ]
  },
  {
   "cell_type": "code",
   "execution_count": 1,
   "id": "9ea7af87",
   "metadata": {},
   "outputs": [],
   "source": [
    "import re\n",
    "def cleaner(code):\n",
    "    pat = re.compile(r'(/\\*([^*]|(\\*+[^*/]))*\\*+/)|(//.*)')\n",
    "    code = re.sub(pat, '', code)\n",
    "    code = re.sub('\\n', '', code)\n",
    "    code = re.sub('\\t', '', code)\n",
    "    return code"
   ]
  },
  {
   "cell_type": "code",
   "execution_count": null,
   "id": "f4de033f",
   "metadata": {},
   "outputs": [],
   "source": [
    "import pandas as pd\n",
    "dataset = \"crossvul\"\n",
    "m1 = pd.read_pickle(f'../../data/finetune/{dataset}/{dataset}_train.pkl')\n",
    "m2 = pd.read_pickle(f'../../data/finetune/{dataset}/{dataset}_val.pkl')\n",
    "m3 = pd.read_pickle(f'../../data/finetune/{dataset}/{dataset}_test.pkl')\n",
    "\n",
    "for df in [m1, m2, m3]:\n",
    "    if \"functionSource\" in df.columns:\n",
    "        df[\"func\"] = df[\"functionSource\"].apply(cleaner)\n",
    "        \n",
    "    if dataset == \"draper\":\n",
    "        df[\"target\"] = df[\"combine\"] * 1\n",
    "\n",
    "    if \"label\" in df.columns:\n",
    "        df[\"target\"] = df[\"label\"]\n",
    "\n",
    "    if dataset == \"mvd\":\n",
    "        df[\"target\"] = df[\"target\"].apply(lambda x: 1 if x != 0 else 0)\n",
    "\n",
    "m1 = m1[[\"func\", \"target\"]]\n",
    "m2 = m2[[\"func\", \"target\"]]\n",
    "m3 = m3[[\"func\", \"target\"]]"
   ]
  },
  {
   "cell_type": "code",
   "execution_count": null,
   "id": "7fdaa6b2",
   "metadata": {},
   "outputs": [
    {
     "name": "stdout",
     "output_type": "stream",
     "text": [
      "\n",
      "--- Start test set ---\n"
     ]
    },
    {
     "name": "stderr",
     "output_type": "stream",
     "text": [
      "Processing test set: 100%|████████████████| 13305/13305 [19:24<00:00, 11.43it/s]"
     ]
    },
    {
     "name": "stdout",
     "output_type": "stream",
     "text": [
      "\n",
      "Metrics for test:\n",
      "Accuracy:  0.6445\n",
      "Precision: 0.0788\n",
      "Recall:    0.5470\n",
      "F1 Score:  0.1378\n",
      "\n",
      "Metrics for test:\n",
      "Accuracy:  0.6445\n",
      "Precision: 0.0788\n",
      "Recall:    0.5470\n",
      "F1 Score:  0.1378\n"
     ]
    },
    {
     "name": "stderr",
     "output_type": "stream",
     "text": [
      "\n",
      "/var/folders/zr/c6223m_9071ckmbfh1gxb27r0000gn/T/ipykernel_44640/1196444536.py:73: SettingWithCopyWarning: \n",
      "A value is trying to be set on a copy of a slice from a DataFrame.\n",
      "Try using .loc[row_indexer,col_indexer] = value instead\n",
      "\n",
      "See the caveats in the documentation: https://pandas.pydata.org/pandas-docs/stable/user_guide/indexing.html#returning-a-view-versus-a-copy\n",
      "  df['gemini_prediction'] = results\n",
      "/var/folders/zr/c6223m_9071ckmbfh1gxb27r0000gn/T/ipykernel_44640/1196444536.py:76: SettingWithCopyWarning: \n",
      "A value is trying to be set on a copy of a slice from a DataFrame.\n",
      "Try using .loc[row_indexer,col_indexer] = value instead\n",
      "\n",
      "See the caveats in the documentation: https://pandas.pydata.org/pandas-docs/stable/user_guide/indexing.html#returning-a-view-versus-a-copy\n",
      "  df['gemini_match'] = (df['gemini_prediction'] == df['target']).astype(int)\n"
     ]
    }
   ],
   "source": [
    "import os\n",
    "import pandas as pd\n",
    "from sklearn.metrics import precision_score, recall_score, accuracy_score, f1_score\n",
    "from tqdm import tqdm\n",
    "from concurrent.futures import ThreadPoolExecutor, as_completed\n",
    "import google.generativeai as genai\n",
    "from datetime import datetime\n",
    "\n",
    "genai.configure(api_key=\"your_api_key\", transport=\"rest\")\n",
    "model = genai.GenerativeModel('gemini-2.0-flash')\n",
    "\n",
    "def detect_vulnerability(code: str) -> int:\n",
    "    prompt = (\n",
    "        \"You are a cybersecurity expert analyzing code for vulnerabilities. \"\n",
    "        \"Respond with '1' if vulnerable or '0' if safe.\\n\\n\" + code\n",
    "    )\n",
    "    try:\n",
    "        response = model.generate_content(prompt)\n",
    "        return int(response.text.strip())\n",
    "    except Exception as e:\n",
    "        return 0\n",
    "\n",
    "def calculate_metrics(y_true, y_pred, dataset_name):\n",
    "    precision = precision_score(y_true, y_pred)\n",
    "    recall = recall_score(y_true, y_pred)\n",
    "    accuracy = accuracy_score(y_true, y_pred)\n",
    "    f1 = f1_score(y_true, y_pred)\n",
    "    \n",
    "    print(f\"\\nMetrics for {dataset_name}:\")\n",
    "    print(f\"Accuracy:  {accuracy:.4f}\")\n",
    "    print(f\"Precision: {precision:.4f}\")\n",
    "    print(f\"Recall:    {recall:.4f}\")\n",
    "    print(f\"F1 Score:  {f1:.4f}\")\n",
    "    \n",
    "    return {\n",
    "        'accuracy': accuracy,\n",
    "        'precision': precision,\n",
    "        'recall': recall,\n",
    "        'f1': f1\n",
    "    }\n",
    "\n",
    "def process_dataset_multithread(df: pd.DataFrame, name: str, max_workers: int = 10) -> pd.DataFrame:\n",
    "    results = [None] * len(df)\n",
    "    with ThreadPoolExecutor(max_workers=max_workers) as executor:\n",
    "        future_to_idx = {\n",
    "            executor.submit(detect_vulnerability, code): idx\n",
    "            for idx, code in enumerate(df['func'])\n",
    "        }\n",
    "        for future in tqdm(as_completed(future_to_idx),\n",
    "                           total=len(future_to_idx),\n",
    "                           desc=f\"Processing {name} set\",\n",
    "                           ncols=80):\n",
    "            idx = future_to_idx[future]\n",
    "            try:\n",
    "                results[idx] = future.result()\n",
    "            except Exception:\n",
    "                results[idx] = 0\n",
    "\n",
    "    df['gemini_prediction'] = results\n",
    "    if 'target' in df.columns:\n",
    "        metrics = calculate_metrics(df['target'], df['gemini_prediction'], name)\n",
    "        df['gemini_match'] = (df['gemini_prediction'] == df['target']).astype(int)\n",
    "\n",
    "    return df\n",
    "\n",
    "def process_datasets_in_parallel(datasets, names, max_workers: int = 10):\n",
    "    results = {}\n",
    "    for df, name in zip(datasets, names):\n",
    "        print(f\"\\n--- Start {name} set ---\")\n",
    "        results[name] = process_dataset_multithread(df, name, max_workers=max_workers)\n",
    "    return results\n",
    "\n",
    "datasets = [m3]\n",
    "names = ['test']\n",
    "results = process_datasets_in_parallel(datasets, names, max_workers=8)\n",
    "results['test'].to_pickle(f'../../data/finetune/{dataset}/{dataset}_test_with_gemini.pkl')\n",
    "for name, df in results.items():\n",
    "    calculate_metrics(df['target'], df['gemini_prediction'], name)"
   ]
  }
 ],
 "metadata": {
  "kernelspec": {
   "display_name": "gemini",
   "language": "python",
   "name": "python3"
  },
  "language_info": {
   "codemirror_mode": {
    "name": "ipython",
    "version": 3
   },
   "file_extension": ".py",
   "mimetype": "text/x-python",
   "name": "python",
   "nbconvert_exporter": "python",
   "pygments_lexer": "ipython3",
   "version": "3.8.0"
  }
 },
 "nbformat": 4,
 "nbformat_minor": 5
}
