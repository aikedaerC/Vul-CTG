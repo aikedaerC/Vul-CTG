{
 "cells": [
  {
   "cell_type": "code",
   "execution_count": null,
   "id": "9a40d237",
   "metadata": {},
   "outputs": [
    {
     "name": "stdout",
     "output_type": "stream",
     "text": [
      "我是一个大型语言模型，由 Google 训练。\n",
      "\n"
     ]
    }
   ],
   "source": [
    "import google.generativeai as genai\n",
    "import os\n",
    "\n",
    "genai.configure(api_key=\"your_api_key\", transport=\"rest\")\n",
    "\n",
    "model = genai.GenerativeModel('gemini-2.0-flash')\n",
    "\n",
    "response = model.generate_content(\"你是谁？\")\n",
    "print(response.text)"
   ]
  },
  {
   "cell_type": "code",
   "execution_count": 56,
   "id": "9ea7af87",
   "metadata": {},
   "outputs": [],
   "source": [
    "import re\n",
    "def cleaner(code):\n",
    "    pat = re.compile(r'(/\\*([^*]|(\\*+[^*/]))*\\*+/)|(//.*)')\n",
    "    code = re.sub(pat, '', code)\n",
    "    code = re.sub('\\n', '', code)\n",
    "    code = re.sub('\\t', '', code)\n",
    "    return code"
   ]
  },
  {
   "cell_type": "code",
   "execution_count": null,
   "id": "f4de033f",
   "metadata": {},
   "outputs": [],
   "source": [
    "import pandas as pd\n",
    "dataset = \"reveal\"\n",
    "m1 = pd.read_pickle(f'../../data/finetune/{dataset}/{dataset}_train.pkl')\n",
    "m2 = pd.read_pickle(f'../../data/finetune/{dataset}/{dataset}_val.pkl')\n",
    "m3 = pd.read_pickle(f'../../data/finetune/{dataset}/{dataset}_test.pkl')\n",
    "\n",
    "for df in [m1, m2, m3]:\n",
    "    if \"functionSource\" in df.columns:\n",
    "        df[\"func\"] = df[\"functionSource\"].apply(cleaner)\n",
    "        \n",
    "    if dataset == \"draper\":\n",
    "        df[\"target\"] = df[\"combine\"] * 1\n",
    "\n",
    "    if \"label\" in df.columns:\n",
    "        df[\"target\"] = df[\"label\"]\n",
    "\n",
    "    if dataset == \"mvd\":\n",
    "        df[\"target\"] = df[\"target\"].apply(lambda x: 1 if x != 0 else 0)\n",
    "\n",
    "m1 = m1[[\"func\", \"target\"]]\n",
    "m2 = m2[[\"func\", \"target\"]]\n",
    "m3 = m3[[\"func\", \"target\"]]"
   ]
  },
  {
   "cell_type": "code",
   "execution_count": null,
   "id": "7fdaa6b2",
   "metadata": {},
   "outputs": [
    {
     "name": "stdout",
     "output_type": "stream",
     "text": [
      "\n",
      "--- Start test set ---\n"
     ]
    },
    {
     "name": "stderr",
     "output_type": "stream",
     "text": [
      "Processing test set:   3%|▋                   | 72/2274 [00:07<04:35,  7.98it/s]"
     ]
    },
    {
     "name": "stdout",
     "output_type": "stream",
     "text": [
      "Error analyzing code with Gemini: invalid literal for int() with base 10: '```cpp\\n1\\n```'\n"
     ]
    },
    {
     "name": "stderr",
     "output_type": "stream",
     "text": [
      "Processing test set:   4%|▊                  | 101/2274 [00:10<03:52,  9.34it/s]"
     ]
    },
    {
     "name": "stdout",
     "output_type": "stream",
     "text": [
      "Error analyzing code with Gemini: invalid literal for int() with base 10: \"```cpp\\nstatic int h263_skip_b_part ( MpegEncContext * s , int cbp ) {\\n  LOCAL_ALIGNED_16 ( int16_t , dblock , [ 64 ] ) ;\\n  int i , mbi ;\\n  mbi = s -> mb_intra ;\\n  s -> mb_intra = 0 ;\\n  for ( i \n"
     ]
    },
    {
     "name": "stderr",
     "output_type": "stream",
     "text": [
      "Processing test set:  15%|██▊                | 340/2274 [00:32<04:47,  6.72it/s]"
     ]
    },
    {
     "name": "stdout",
     "output_type": "stream",
     "text": [
      "Error analyzing code with Gemini: invalid literal for int() with base 10: \"```c\\nstatic float vorbisfloat2float ( unsigned val ) {\\n  double mant = val & 0x1fffff ;\\n  long exp = ( val & 0x7fe00000L ) >> 21 ;\\n\\n  if ( val & 0x80000000 )\\n    mant = - mant ;\\n\\n  return lde\n",
      "Error analyzing code with Gemini: invalid literal for int() with base 10: \"```c\\n1\\n```\\n\\n**Explanation:**\\n\\nThe vulnerability lies in the potential integer overflow when adding `current_address` to `result`.  Both `result` (after masking) and `current_address` are `guint\n"
     ]
    },
    {
     "name": "stderr",
     "output_type": "stream",
     "text": [
      "Processing test set:  16%|███                | 362/2274 [00:35<03:32,  8.99it/s]"
     ]
    },
    {
     "name": "stdout",
     "output_type": "stream",
     "text": [
      "Error analyzing code with Gemini: invalid literal for int() with base 10: '```cpp\\n1\\n```\\n\\n**Vulnerability Explanation:**\\n\\nThe code contains multiple instances of using `g_snprintf` and `protoo_strlcpy` (which likely wraps `g_strlcpy` or a similar function) without prop\n"
     ]
    },
    {
     "name": "stderr",
     "output_type": "stream",
     "text": [
      "Processing test set:  18%|███▎               | 399/2274 [00:39<03:11,  9.79it/s]"
     ]
    },
    {
     "name": "stdout",
     "output_type": "stream",
     "text": [
      "Error analyzing code with Gemini: invalid literal for int() with base 10: '```c\\nstatic int tm2_decode_blocks ( TM2Context * ctx , AVFrame * p ) {\\n  int i , j ;\\n  int w = ctx -> avctx -> width , h = ctx -> avctx -> height , bw = w >> 2 , bh = h >> 2 , cw = w >> 1 ;\\n  int\n"
     ]
    },
    {
     "name": "stderr",
     "output_type": "stream",
     "text": [
      "Processing test set:  18%|███▎               | 403/2274 [00:40<02:42, 11.49it/s]"
     ]
    },
    {
     "name": "stdout",
     "output_type": "stream",
     "text": [
      "Error analyzing code with Gemini: invalid literal for int() with base 10: '```c\\nstatic int zmbv_decode_xor_32 ( ZmbvContext * c ) {\\n  uint8_t * src = c -> decomp_buf ;\\n  uint32_t * output , * prev ;\\n  int8_t * mvec ;\\n  int x , y ;\\n  int d , dx , dy , bw2 , bh2 ;\\n  in\n"
     ]
    },
    {
     "name": "stderr",
     "output_type": "stream",
     "text": [
      "Processing test set:  33%|██████▎            | 756/2274 [01:09<02:08, 11.85it/s]"
     ]
    },
    {
     "name": "stdout",
     "output_type": "stream",
     "text": [
      "Error analyzing code with Gemini: invalid literal for int() with base 10: '```c\\n1\\n```\\n\\nVulnerability Explanation:\\n\\nThe code reads the blockcount from the data stream, then iterates from `i = 1` to `blockcount` (inclusive).  Inside the loop, string lengths (`name_len`,\n"
     ]
    },
    {
     "name": "stderr",
     "output_type": "stream",
     "text": [
      "Processing test set:  36%|██████▊            | 813/2274 [01:14<01:38, 14.88it/s]"
     ]
    },
    {
     "name": "stdout",
     "output_type": "stream",
     "text": [
      "Error analyzing code with Gemini: invalid literal for int() with base 10: \"```c\\nstatic int ipvideo_decode_block_opcode_0xE_16 ( IpvideoContext * s ) {\\n  int x , y ;\\n  uint16_t pix ;\\n  uint16_t * pixel_ptr = ( uint16_t * ) s -> pixel_ptr ;\\n\\n  pix = bytestream2_get_le16\n"
     ]
    },
    {
     "name": "stderr",
     "output_type": "stream",
     "text": [
      "Processing test set:  44%|████████▎          | 991/2274 [01:29<01:46, 12.10it/s]"
     ]
    },
    {
     "name": "stdout",
     "output_type": "stream",
     "text": [
      "Error analyzing code with Gemini: invalid literal for int() with base 10: \"```c\\nvoid virLogOutputFree ( virLogOutputPtr output ) {\\n  if ( ! output )\\n    return ;\\n\\n  if ( output -> c )\\n    output -> c ( output -> data ) ;\\n\\n  VIR_FREE ( output -> name ) ;\\n  VIR_FREE \n"
     ]
    },
    {
     "name": "stderr",
     "output_type": "stream",
     "text": [
      "Processing test set:  44%|███████▉          | 1000/2274 [01:30<01:41, 12.58it/s]"
     ]
    },
    {
     "name": "stdout",
     "output_type": "stream",
     "text": [
      "Error analyzing code with Gemini: invalid literal for int() with base 10: \"```c\\nstatic int kvm_put_one_msr ( X86CPU * cpu , int index , uint64_t value ) {\\n  kvm_msr_buf_reset ( cpu ) ;\\n  kvm_msr_entry_add ( cpu , index , value ) ;\\n  return kvm_vcpu_ioctl ( CPU ( cpu ) ,\n"
     ]
    },
    {
     "name": "stderr",
     "output_type": "stream",
     "text": [
      "Processing test set:  59%|██████████▋       | 1352/2274 [02:05<02:08,  7.20it/s]"
     ]
    },
    {
     "name": "stdout",
     "output_type": "stream",
     "text": [
      "Error analyzing code with Gemini: invalid literal for int() with base 10: '```c\\nstatic int decode_nal_units ( H264Context * h , const uint8_t * buf , int buf_size , int parse_extradata ) {\\n    AVCodecContext * const avctx = h -> avctx ;\\n    H264Context * hx ;\\n    int bu\n"
     ]
    },
    {
     "name": "stderr",
     "output_type": "stream",
     "text": [
      "Processing test set:  60%|██████████▉       | 1374/2274 [02:07<01:14, 12.06it/s]"
     ]
    },
    {
     "name": "stdout",
     "output_type": "stream",
     "text": [
      "Error analyzing code with Gemini: invalid literal for int() with base 10: '```cpp\\n1\\n```'\n"
     ]
    },
    {
     "name": "stderr",
     "output_type": "stream",
     "text": [
      "Processing test set:  67%|███████████▉      | 1514/2274 [02:22<01:21,  9.38it/s]"
     ]
    },
    {
     "name": "stdout",
     "output_type": "stream",
     "text": [
      "Error analyzing code with Gemini: invalid literal for int() with base 10: '```cpp\\n1\\n```\\n\\n**Vulnerability Explanation:**\\n\\nThe vulnerability lies in the use of `snprintf` without proper bounds checking in multiple places within the code, specifically when constructing H\n"
     ]
    },
    {
     "name": "stderr",
     "output_type": "stream",
     "text": [
      "Processing test set:  69%|████████████▍     | 1571/2274 [02:30<01:15,  9.29it/s]"
     ]
    },
    {
     "name": "stdout",
     "output_type": "stream",
     "text": [
      "Error analyzing code with Gemini: invalid literal for int() with base 10: '```cpp\\n1\\n```\\n\\n**Explanation:**\\n\\nThe vulnerability lies in the following line within the nested loops:\\n\\n```c\\nvect = &buf[*table++ * (vect_w * vect_h)];\\n```\\n\\nand the subsequent usage of `ve\n"
     ]
    },
    {
     "name": "stderr",
     "output_type": "stream",
     "text": [
      "Processing test set:  71%|████████████▋     | 1604/2274 [02:34<01:27,  7.67it/s]"
     ]
    },
    {
     "name": "stdout",
     "output_type": "stream",
     "text": [
      "Error analyzing code with Gemini: invalid literal for int() with base 10: \"```c\\nvoid vp9_quantize_b_c ( const int16_t * coeff_ptr , intptr_t count , int skip_block , const int16_t * zbin_ptr , const int16_t * round_ptr , const int16_t * quant_ptr , const int16_t * quant_sh\n"
     ]
    },
    {
     "name": "stderr",
     "output_type": "stream",
     "text": [
      "Processing test set:  71%|████████████▊     | 1623/2274 [02:35<00:45, 14.36it/s]"
     ]
    },
    {
     "name": "stdout",
     "output_type": "stream",
     "text": [
      "Error analyzing code with Gemini: invalid literal for int() with base 10: \"```c\\nstatic int rv34_decode_inter_macroblock ( RV34DecContext * r , int8_t * intra_types ) {\\n  MpegEncContext * s = & r -> s ;\\n  GetBitContext * gb = & s -> gb ;\\n  uint8_t * dst = s -> dest [ 0 ]\n"
     ]
    },
    {
     "name": "stderr",
     "output_type": "stream",
     "text": [
      "Processing test set:  75%|█████████████▍    | 1705/2274 [02:43<00:47, 11.94it/s]"
     ]
    },
    {
     "name": "stdout",
     "output_type": "stream",
     "text": [
      "Error analyzing code with Gemini: invalid literal for int() with base 10: \"```cpp\\ndouble vp9_vaq_rdmult_ratio ( int energy ) {\\n  ENERGY_IN_BOUNDS ( energy ) ;\\n  vp9_clear_system_state ( ) ;\\n  return RDMULT_RATIO ( energy ) ;\\n}\\n```\\n\\nLet's analyze this code for potent\n",
      "Error analyzing code with Gemini: invalid literal for int() with base 10: '```c\\nstatic vpx_codec_err_t ctrl_update_reference ( vpx_codec_alg_priv_t * ctx , va_list args ) {\\n  const int ref_frame_flags = va_arg ( args , int ) ;\\n  vp9_update_reference ( ctx -> cpi , ref_fr\n"
     ]
    },
    {
     "name": "stderr",
     "output_type": "stream",
     "text": [
      "Processing test set:  82%|██████████████▊   | 1866/2274 [02:56<00:42,  9.56it/s]"
     ]
    },
    {
     "name": "stdout",
     "output_type": "stream",
     "text": [
      "Error analyzing code with Gemini: invalid literal for int() with base 10: \"```cpp\\n1\\n```\\n\\n**Explanation:**\\n\\nThe code has a potential use-after-free vulnerability.  Here's why:\\n\\n1. **`g_free(state);`**:  This line deallocates the memory pointed to by `state`.  After t\n"
     ]
    },
    {
     "name": "stderr",
     "output_type": "stream",
     "text": [
      "Processing test set:  84%|███████████████   | 1909/2274 [03:01<00:33, 10.79it/s]"
     ]
    },
    {
     "name": "stdout",
     "output_type": "stream",
     "text": [
      "Error analyzing code with Gemini: invalid literal for int() with base 10: \"```c\\n1\\n```\\n\\n**Explanation:**\\n\\nThe code snippet is vulnerable to a potential buffer overflow in the `addchr` function.  Here's why:\\n\\n1. **`cvec` Structure and `addchr`:** The `cvec` structure \n"
     ]
    },
    {
     "name": "stderr",
     "output_type": "stream",
     "text": [
      "Processing test set:  84%|███████████████▏  | 1915/2274 [03:02<00:26, 13.48it/s]"
     ]
    },
    {
     "name": "stdout",
     "output_type": "stream",
     "text": [
      "Error analyzing code with Gemini: invalid literal for int() with base 10: '```cpp\\n0\\n```'\n"
     ]
    },
    {
     "name": "stderr",
     "output_type": "stream",
     "text": [
      "Processing test set:  85%|███████████████▎  | 1932/2274 [03:04<00:33, 10.30it/s]"
     ]
    },
    {
     "name": "stdout",
     "output_type": "stream",
     "text": [
      "Error analyzing code with Gemini: invalid literal for int() with base 10: '```c\\n1\\n```'\n"
     ]
    },
    {
     "name": "stderr",
     "output_type": "stream",
     "text": [
      "Processing test set:  89%|███████████████▉  | 2018/2274 [03:12<00:21, 11.68it/s]"
     ]
    },
    {
     "name": "stdout",
     "output_type": "stream",
     "text": [
      "Error analyzing code with Gemini: invalid literal for int() with base 10: \"```c\\nstatic int strtoi_lim ( const char * str , const char * * ep , int llim , int ulim ) {\\n  int res = 0 ;\\n  const char * sp ;\\n  int rulim ;\\n\\n  for ( sp = str , rulim = ulim > 10 ? ulim : 10 ;\n"
     ]
    },
    {
     "name": "stderr",
     "output_type": "stream",
     "text": [
      "Processing test set:  92%|████████████████▌ | 2098/2274 [03:18<00:13, 12.76it/s]"
     ]
    },
    {
     "name": "stdout",
     "output_type": "stream",
     "text": [
      "Error analyzing code with Gemini: invalid literal for int() with base 10: '```c\\nvoid proto_registrar_dump_protocols ( void ) {\\n  protocol_t * protocol ;\\n  int i ;\\n  void * cookie = NULL ;\\n\\n  i = proto_get_first_protocol ( & cookie ) ;\\n  while ( i != - 1 ) {\\n    prot\n"
     ]
    },
    {
     "name": "stderr",
     "output_type": "stream",
     "text": [
      "Processing test set:  94%|████████████████▉ | 2146/2274 [03:22<00:10, 12.08it/s]"
     ]
    },
    {
     "name": "stdout",
     "output_type": "stream",
     "text": [
      "Error analyzing code with Gemini: invalid literal for int() with base 10: '```c\\n1\\n```'\n"
     ]
    },
    {
     "name": "stderr",
     "output_type": "stream",
     "text": [
      "Processing test set: 100%|██████████████████| 2274/2274 [03:33<00:00, 10.63it/s]"
     ]
    },
    {
     "name": "stdout",
     "output_type": "stream",
     "text": [
      "Error analyzing code with Gemini: invalid literal for int() with base 10: \"```c\\n1\\n```\\n\\n**Explanation:**\\n\\nThe vulnerability lies in the potential for `avio_get_str` to read less than `size` bytes from the input, but the code doesn't account for a null terminator being \n",
      "\n",
      "Metrics for test:\n",
      "Accuracy:  0.6003\n",
      "Precision: 0.1075\n",
      "Recall:    0.4043\n",
      "F1 Score:  0.1699\n",
      "\n",
      "Metrics for test:\n",
      "Accuracy:  0.6003\n",
      "Precision: 0.1075\n",
      "Recall:    0.4043\n",
      "F1 Score:  0.1699\n"
     ]
    },
    {
     "name": "stderr",
     "output_type": "stream",
     "text": [
      "\n",
      "/var/folders/zr/c6223m_9071ckmbfh1gxb27r0000gn/T/ipykernel_29721/2908444546.py:70: SettingWithCopyWarning: \n",
      "A value is trying to be set on a copy of a slice from a DataFrame.\n",
      "Try using .loc[row_indexer,col_indexer] = value instead\n",
      "\n",
      "See the caveats in the documentation: https://pandas.pydata.org/pandas-docs/stable/user_guide/indexing.html#returning-a-view-versus-a-copy\n",
      "  df['gemini_prediction'] = results\n",
      "/var/folders/zr/c6223m_9071ckmbfh1gxb27r0000gn/T/ipykernel_29721/2908444546.py:73: SettingWithCopyWarning: \n",
      "A value is trying to be set on a copy of a slice from a DataFrame.\n",
      "Try using .loc[row_indexer,col_indexer] = value instead\n",
      "\n",
      "See the caveats in the documentation: https://pandas.pydata.org/pandas-docs/stable/user_guide/indexing.html#returning-a-view-versus-a-copy\n",
      "  df['gemini_match'] = (df['gemini_prediction'] == df['target']).astype(int)\n"
     ]
    }
   ],
   "source": [
    "import os\n",
    "import pandas as pd\n",
    "from sklearn.metrics import precision_score, recall_score, accuracy_score, f1_score\n",
    "from tqdm import tqdm\n",
    "from concurrent.futures import ThreadPoolExecutor, as_completed\n",
    "import google.generativeai as genai\n",
    "\n",
    "genai.configure(api_key=\"your_api_key\", transport=\"rest\")\n",
    "model = genai.GenerativeModel('gemini-2.0-flash')\n",
    "\n",
    "def detect_vulnerability(code: str) -> int:\n",
    "    prompt = (\n",
    "        \"You are a cybersecurity expert analyzing code for vulnerabilities. \"\n",
    "        \"Respond with '1' if vulnerable or '0' if safe.\\n\\n\" + code\n",
    "    )\n",
    "    try:\n",
    "        response = model.generate_content(prompt)\n",
    "        return int(response.text.strip())\n",
    "    except Exception as e:\n",
    "        print(f\"Error analyzing code with Gemini: {e}\")\n",
    "        return 0\n",
    "\n",
    "def calculate_metrics(y_true, y_pred, dataset_name):\n",
    "    precision = precision_score(y_true, y_pred)\n",
    "    recall = recall_score(y_true, y_pred)\n",
    "    accuracy = accuracy_score(y_true, y_pred)\n",
    "    f1 = f1_score(y_true, y_pred)\n",
    "    \n",
    "    print(f\"\\nMetrics for {dataset_name}:\")\n",
    "    print(f\"Accuracy:  {accuracy:.4f}\")\n",
    "    print(f\"Precision: {precision:.4f}\")\n",
    "    print(f\"Recall:    {recall:.4f}\")\n",
    "    print(f\"F1 Score:  {f1:.4f}\")\n",
    "    \n",
    "    return {\n",
    "        'accuracy': accuracy,\n",
    "        'precision': precision,\n",
    "        'recall': recall,\n",
    "        'f1': f1\n",
    "    }\n",
    "\n",
    "def process_dataset_multithread(df: pd.DataFrame, name: str, max_workers: int = 10) -> pd.DataFrame:\n",
    "    results = [None] * len(df)\n",
    "    with ThreadPoolExecutor(max_workers=max_workers) as executor:\n",
    "        future_to_idx = {\n",
    "            executor.submit(detect_vulnerability, code): idx\n",
    "            for idx, code in enumerate(df['func'])\n",
    "        }\n",
    "        for future in tqdm(as_completed(future_to_idx),\n",
    "                           total=len(future_to_idx),\n",
    "                           desc=f\"Processing {name} set\",\n",
    "                           ncols=80):\n",
    "            idx = future_to_idx[future]\n",
    "            try:\n",
    "                results[idx] = future.result()\n",
    "            except Exception:\n",
    "                results[idx] = 0\n",
    "\n",
    "    df['gemini_prediction'] = results\n",
    "    if 'target' in df.columns:\n",
    "        metrics = calculate_metrics(df['target'], df['gemini_prediction'], name)\n",
    "        df['gemini_match'] = (df['gemini_prediction'] == df['target']).astype(int)\n",
    "\n",
    "    return df\n",
    "\n",
    "def process_datasets_in_parallel(datasets, names, max_workers: int = 10):\n",
    "    results = {}\n",
    "    for df, name in zip(datasets, names):\n",
    "        print(f\"\\n--- Start {name} set ---\")\n",
    "        results[name] = process_dataset_multithread(df, name, max_workers=max_workers)\n",
    "    return results\n",
    "\n",
    "datasets = [m3]\n",
    "names = ['test']\n",
    "results = process_datasets_in_parallel(datasets, names, max_workers=8)\n",
    "results['test'].to_pickle(f'../../data/finetune/{dataset}/{dataset}_test_with_gemini.pkl')\n",
    "for name, df in results.items():\n",
    "    calculate_metrics(df['target'], df['gemini_prediction'], name)"
   ]
  }
 ],
 "metadata": {
  "kernelspec": {
   "display_name": "gemini",
   "language": "python",
   "name": "python3"
  },
  "language_info": {
   "codemirror_mode": {
    "name": "ipython",
    "version": 3
   },
   "file_extension": ".py",
   "mimetype": "text/x-python",
   "name": "python",
   "nbconvert_exporter": "python",
   "pygments_lexer": "ipython3",
   "version": "3.9.21"
  }
 },
 "nbformat": 4,
 "nbformat_minor": 5
}
