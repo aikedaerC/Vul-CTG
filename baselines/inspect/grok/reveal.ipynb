{
 "cells": [
  {
   "cell_type": "code",
   "execution_count": null,
   "id": "9a40d237",
   "metadata": {},
   "outputs": [
    {
     "name": "stdout",
     "output_type": "stream",
     "text": [
      "models/gemini-1.0-pro-vision-latest\n",
      "models/gemini-pro-vision\n",
      "models/gemini-1.5-pro-latest\n",
      "models/gemini-1.5-pro-001\n",
      "models/gemini-1.5-pro-002\n",
      "models/gemini-1.5-pro\n",
      "models/gemini-1.5-flash-latest\n",
      "models/gemini-1.5-flash-001\n",
      "models/gemini-1.5-flash-001-tuning\n",
      "models/gemini-1.5-flash\n",
      "models/gemini-1.5-flash-002\n",
      "models/gemini-1.5-flash-8b\n",
      "models/gemini-1.5-flash-8b-001\n",
      "models/gemini-1.5-flash-8b-latest\n",
      "models/gemini-1.5-flash-8b-exp-0827\n",
      "models/gemini-1.5-flash-8b-exp-0924\n",
      "models/gemini-2.5-pro-exp-03-25\n",
      "models/gemini-2.5-pro-preview-03-25\n",
      "models/gemini-2.5-flash-preview-04-17\n",
      "models/gemini-2.0-flash-exp\n",
      "models/gemini-2.0-flash\n",
      "models/gemini-2.0-flash-001\n",
      "models/gemini-2.0-flash-exp-image-generation\n",
      "models/gemini-2.0-flash-lite-001\n",
      "models/gemini-2.0-flash-lite\n",
      "models/gemini-2.0-flash-lite-preview-02-05\n",
      "models/gemini-2.0-flash-lite-preview\n",
      "models/gemini-2.0-pro-exp\n",
      "models/gemini-2.0-pro-exp-02-05\n",
      "models/gemini-exp-1206\n",
      "models/gemini-2.0-flash-thinking-exp-01-21\n",
      "models/gemini-2.0-flash-thinking-exp\n",
      "models/gemini-2.0-flash-thinking-exp-1219\n",
      "models/learnlm-1.5-pro-experimental\n",
      "models/learnlm-2.0-flash-experimental\n",
      "models/gemma-3-1b-it\n",
      "models/gemma-3-4b-it\n",
      "models/gemma-3-12b-it\n",
      "models/gemma-3-27b-it\n",
      "我是一个大型语言模型，由 Google 训练。\n",
      "\n"
     ]
    }
   ],
   "source": [
    "import google.generativeai as genai\n",
    "import os\n",
    "\n",
    "genai.configure(api_key=\"your_api_key\", transport=\"rest\")\n",
    "\n",
    "model = genai.GenerativeModel('gemini-2.0-flash')\n",
    "\n",
    "response = model.generate_content(\"你是谁？\")\n",
    "print(response.text)"
   ]
  },
  {
   "cell_type": "code",
   "execution_count": 2,
   "id": "9ea7af87",
   "metadata": {},
   "outputs": [],
   "source": [
    "import re\n",
    "def cleaner(code):\n",
    "    pat = re.compile(r'(/\\*([^*]|(\\*+[^*/]))*\\*+/)|(//.*)')\n",
    "    code = re.sub(pat, '', code)\n",
    "    code = re.sub('\\n', '', code)\n",
    "    code = re.sub('\\t', '', code)\n",
    "    return code"
   ]
  },
  {
   "cell_type": "code",
   "execution_count": null,
   "id": "f4de033f",
   "metadata": {},
   "outputs": [],
   "source": [
    "import pandas as pd\n",
    "dataset = \"reveal\"\n",
    "m1 = pd.read_pickle(f'../../data/finetune/{dataset}/{dataset}_train.pkl')\n",
    "m2 = pd.read_pickle(f'../../data/finetune/{dataset}/{dataset}_val.pkl')\n",
    "m3 = pd.read_pickle(f'../../data/finetune/{dataset}/{dataset}_test.pkl')\n",
    "\n",
    "for df in [m1, m2, m3]:\n",
    "    if \"functionSource\" in df.columns:\n",
    "        df[\"func\"] = df[\"functionSource\"].apply(cleaner)\n",
    "        \n",
    "    if dataset == \"draper\":\n",
    "        df[\"target\"] = df[\"combine\"] * 1\n",
    "\n",
    "    if \"label\" in df.columns:\n",
    "        df[\"target\"] = df[\"label\"]\n",
    "\n",
    "    if dataset == \"mvd\":\n",
    "        df[\"target\"] = df[\"target\"].apply(lambda x: 1 if x != 0 else 0)\n",
    "\n",
    "m1 = m1[[\"func\", \"target\"]]\n",
    "m2 = m2[[\"func\", \"target\"]]\n",
    "m3 = m3[[\"func\", \"target\"]]"
   ]
  },
  {
   "cell_type": "code",
   "execution_count": null,
   "id": "7fdaa6b2",
   "metadata": {},
   "outputs": [
    {
     "name": "stdout",
     "output_type": "stream",
     "text": [
      "\n",
      "--- Start test set ---\n"
     ]
    },
    {
     "name": "stderr",
     "output_type": "stream",
     "text": [
      "Processing test set:   9%|█▊                 | 213/2274 [00:27<03:07, 10.96it/s]"
     ]
    },
    {
     "name": "stdout",
     "output_type": "stream",
     "text": [
      "Error analyzing code: invalid literal for int() with base 10: \"there! I've taken a look at the code you provided. After analyzing it, I’ve determined that there are potential security vulnerabilities, particularly related to improper error handling and resource \n"
     ]
    },
    {
     "name": "stderr",
     "output_type": "stream",
     "text": [
      "Processing test set:  11%|██▏                | 259/2274 [00:33<03:41,  9.12it/s]"
     ]
    },
    {
     "name": "stdout",
     "output_type": "stream",
     "text": [
      "Error analyzing code: invalid literal for int() with base 10: \"there, I'm diving into this code snippet to check for any security vulnerabilities. After a thorough look, I've determined that this code is safe. It appears to be a straightforward function for diss\n"
     ]
    },
    {
     "name": "stderr",
     "output_type": "stream",
     "text": [
      "Processing test set:  15%|██▊                | 338/2274 [00:45<03:50,  8.39it/s]"
     ]
    },
    {
     "name": "stdout",
     "output_type": "stream",
     "text": [
      "Error analyzing code: invalid literal for int() with base 10: \"there! I've taken a look at the code snippet you provided. Based on my analysis, I'm going to have to say:\\n\\n1\\n\\nHere's why I flagged this as vulnerable: The code appears to be manipulating bit pos\n"
     ]
    },
    {
     "name": "stderr",
     "output_type": "stream",
     "text": [
      "Processing test set:  20%|███▊               | 450/2274 [00:57<05:37,  5.40it/s]"
     ]
    },
    {
     "name": "stdout",
     "output_type": "stream",
     "text": [
      "Error analyzing code: invalid literal for int() with base 10: 'there, thanks for sharing this code snippet. After taking a look, I’ve determined that this code does have a potential security vulnerability. The function `gcry_pk_lookup_name` uses `_gcry_module_lo\n"
     ]
    },
    {
     "name": "stderr",
     "output_type": "stream",
     "text": [
      "Processing test set:  22%|████               | 493/2274 [01:05<06:23,  4.64it/s]"
     ]
    },
    {
     "name": "stdout",
     "output_type": "stream",
     "text": [
      "Error analyzing code: invalid literal for int() with base 10: \"there! After analyzing the provided code, I've determined that it does contain potential security vulnerabilities. Therefore, my response is:\\n\\n1\\n\\nHere's a quick breakdown of the issues I spotted:\n"
     ]
    },
    {
     "name": "stderr",
     "output_type": "stream",
     "text": [
      "Processing test set:  32%|██████▏            | 738/2274 [01:43<03:15,  7.85it/s]"
     ]
    },
    {
     "name": "stdout",
     "output_type": "stream",
     "text": [
      "Error analyzing code: invalid literal for int() with base 10: \"there! I'm taking a look at this code snippet from what appears to be a GStreamer ASF demuxer. Let me analyze it for potential security vulnerabilities.\\n\\nAfter reviewing the code, I can see that it\n"
     ]
    },
    {
     "name": "stderr",
     "output_type": "stream",
     "text": [
      "Processing test set:  41%|███████▋           | 924/2274 [02:17<04:57,  4.54it/s]"
     ]
    },
    {
     "name": "stdout",
     "output_type": "stream",
     "text": [
      "Error analyzing code: invalid literal for int() with base 10: \"there! I've analyzed the code snippet you provided, which appears to be a register read function for a PXA2xx I2S (Inter-IC Sound) controller in an embedded system or emulator context. Let's break do\n"
     ]
    },
    {
     "name": "stderr",
     "output_type": "stream",
     "text": [
      "Processing test set:  45%|████████          | 1026/2274 [02:36<04:05,  5.09it/s]"
     ]
    },
    {
     "name": "stdout",
     "output_type": "stream",
     "text": [
      "Error analyzing code: invalid literal for int() with base 10: \"1\\n\\nExplanation: The provided code is a Wireshark dissector for the H.245 protocol, which is used for multimedia communication control in VoIP and video conferencing systems. While the code itself i\n"
     ]
    },
    {
     "name": "stderr",
     "output_type": "stream",
     "text": [
      "Processing test set:  64%|███████████▍      | 1446/2274 [03:24<03:49,  3.60it/s]"
     ]
    },
    {
     "name": "stdout",
     "output_type": "stream",
     "text": [
      "Error analyzing code: invalid literal for int() with base 10: 'Assistant: 1'\n"
     ]
    },
    {
     "name": "stderr",
     "output_type": "stream",
     "text": [
      "Processing test set:  65%|███████████▋      | 1484/2274 [03:33<02:52,  4.59it/s]"
     ]
    },
    {
     "name": "stdout",
     "output_type": "stream",
     "text": [
      "Error analyzing code: invalid literal for int() with base 10: \"1\\n\\nExplanation: The provided code, which appears to be a DNS packet dissector (likely from Wireshark), has potential vulnerabilities due to insufficient bounds checking and improper handling of inp\n"
     ]
    },
    {
     "name": "stderr",
     "output_type": "stream",
     "text": [
      "Processing test set:  66%|███████████▊      | 1499/2274 [03:34<01:46,  7.30it/s]"
     ]
    },
    {
     "name": "stdout",
     "output_type": "stream",
     "text": [
      "Error analyzing code: invalid literal for int() with base 10: 'there! I\\'ve taken a look at the code snippet you provided, which appears to be a search function (`mdb_search`) from an LDAP database backend, likely related to OpenLDAP\\'s LMDB (Lightning Memory-Ma\n"
     ]
    },
    {
     "name": "stderr",
     "output_type": "stream",
     "text": [
      "Processing test set:  77%|█████████████▉    | 1756/2274 [04:12<00:55,  9.33it/s]"
     ]
    },
    {
     "name": "stdout",
     "output_type": "stream",
     "text": [
      "Error analyzing code: invalid literal for int() with base 10: \"there, after analyzing the code you've provided, I'm responding with '1' to indicate that yes, there are potential security vulnerabilities present.\\n\\n1\"\n"
     ]
    },
    {
     "name": "stderr",
     "output_type": "stream",
     "text": [
      "Processing test set:  87%|███████████████▋  | 1981/2274 [04:47<00:47,  6.12it/s]"
     ]
    },
    {
     "name": "stdout",
     "output_type": "stream",
     "text": [
      "Error analyzing code: invalid literal for int() with base 10: '\"analysis\": \"The provided code appears to be a packet dissector for RSVP (Resource Reservation Protocol) with 3GPP extensions, likely from a tool like Wireshark. After careful review, several potenti\n"
     ]
    },
    {
     "name": "stderr",
     "output_type": "stream",
     "text": [
      "Processing test set:  92%|████████████████▌ | 2096/2274 [05:12<00:25,  6.89it/s]"
     ]
    },
    {
     "name": "stdout",
     "output_type": "stream",
     "text": [
      "Error analyzing code: invalid literal for int() with base 10: '1]'\n"
     ]
    },
    {
     "name": "stderr",
     "output_type": "stream",
     "text": [
      "Processing test set:  99%|█████████████████▊| 2257/2274 [05:35<00:01, 10.60it/s]"
     ]
    },
    {
     "name": "stdout",
     "output_type": "stream",
     "text": [
      "Error analyzing code: invalid literal for int() with base 10: \"there! I've taken a look at the code snippet you provided, which appears to be a set of macros and inline functions for managing stacks in OpenSSL (likely from the `safestack.h` or similar header fil\n"
     ]
    },
    {
     "name": "stderr",
     "output_type": "stream",
     "text": [
      "Processing test set: 100%|█████████████████▉| 2268/2274 [05:36<00:00, 10.72it/s]"
     ]
    },
    {
     "name": "stdout",
     "output_type": "stream",
     "text": [
      "Error analyzing code: invalid literal for int() with base 10: \"there! I've taken a look at the code snippet you provided, which appears to be related to initializing a DMA (Direct Memory Access) controller for a SPARC32 system in an emulation environment like QE\n"
     ]
    },
    {
     "name": "stderr",
     "output_type": "stream",
     "text": [
      "Processing test set: 100%|██████████████████| 2274/2274 [05:37<00:00,  6.74it/s]"
     ]
    },
    {
     "name": "stdout",
     "output_type": "stream",
     "text": [
      "\n",
      "Metrics for test:\n",
      "Accuracy:  0.2700\n",
      "Precision: 0.1054\n",
      "Recall:    0.8304\n",
      "F1 Score:  0.1871\n",
      "\n",
      "Metrics for test:\n",
      "Accuracy:  0.2700\n",
      "Precision: 0.1054\n",
      "Recall:    0.8304\n",
      "F1 Score:  0.1871\n"
     ]
    },
    {
     "name": "stderr",
     "output_type": "stream",
     "text": [
      "\n",
      "/var/folders/zr/c6223m_9071ckmbfh1gxb27r0000gn/T/ipykernel_49664/2922691979.py:77: SettingWithCopyWarning: \n",
      "A value is trying to be set on a copy of a slice from a DataFrame.\n",
      "Try using .loc[row_indexer,col_indexer] = value instead\n",
      "\n",
      "See the caveats in the documentation: https://pandas.pydata.org/pandas-docs/stable/user_guide/indexing.html#returning-a-view-versus-a-copy\n",
      "  df['grok_prediction'] = results\n",
      "/var/folders/zr/c6223m_9071ckmbfh1gxb27r0000gn/T/ipykernel_49664/2922691979.py:80: SettingWithCopyWarning: \n",
      "A value is trying to be set on a copy of a slice from a DataFrame.\n",
      "Try using .loc[row_indexer,col_indexer] = value instead\n",
      "\n",
      "See the caveats in the documentation: https://pandas.pydata.org/pandas-docs/stable/user_guide/indexing.html#returning-a-view-versus-a-copy\n",
      "  df['grok_match'] = (df['grok_prediction'] == df['target']).astype(int)\n"
     ]
    }
   ],
   "source": [
    "from openai import OpenAI\n",
    "import pandas as pd\n",
    "from sklearn.metrics import precision_score, recall_score, accuracy_score, f1_score\n",
    "from tqdm import tqdm\n",
    "from concurrent.futures import ThreadPoolExecutor, as_completed\n",
    "\n",
    "client = OpenAI(\n",
    "    api_key=\"your_api_key\",\n",
    "    base_url=\"https://api.x.ai/v1\",\n",
    ")\n",
    "\n",
    "def detect_vulnerability(code):\n",
    "    try:\n",
    "        response = client.chat.completions.create(\n",
    "            model=\"grok-3-latest\",\n",
    "            messages=[\n",
    "                {\"role\": \"system\", \"content\": \"You are a cybersecurity expert analyzing code for vulnerabilities. Respond with '1' if vulnerable or '0' if safe.\"},\n",
    "                {\"role\": \"user\", \"content\": f\"Does this code contain security vulnerabilities? Respond with only '1' for yes or '0' for no:\\n\\n{code}\"}\n",
    "            ],\n",
    "            stream=False\n",
    "        )\n",
    "        return int(response.choices[0].message.content.strip())\n",
    "    except Exception as e:\n",
    "        print(f\"Error analyzing code: {e}\")\n",
    "        return 0\n",
    "\n",
    "def calculate_metrics(y_true, y_pred, dataset_name):\n",
    "    precision = precision_score(y_true, y_pred)\n",
    "    recall = recall_score(y_true, y_pred)\n",
    "    accuracy = accuracy_score(y_true, y_pred)\n",
    "    f1 = f1_score(y_true, y_pred)\n",
    "    \n",
    "    print(f\"\\nMetrics for {dataset_name}:\")\n",
    "    print(f\"Accuracy:  {accuracy:.4f}\")\n",
    "    print(f\"Precision: {precision:.4f}\")\n",
    "    print(f\"Recall:    {recall:.4f}\")\n",
    "    print(f\"F1 Score:  {f1:.4f}\")\n",
    "    \n",
    "    return {\n",
    "        'accuracy': accuracy,\n",
    "        'precision': precision,\n",
    "        'recall': recall,\n",
    "        'f1': f1\n",
    "    }\n",
    "\n",
    "def process_dataset_multithread(df: pd.DataFrame, name: str, max_workers: int = 10) -> pd.DataFrame:\n",
    "    results = [None] * len(df)\n",
    "    with ThreadPoolExecutor(max_workers=max_workers) as executor:\n",
    "        future_to_idx = {\n",
    "            executor.submit(detect_vulnerability, code): idx\n",
    "            for idx, code in enumerate(df['func'])\n",
    "        }\n",
    "        for future in tqdm(as_completed(future_to_idx),\n",
    "                           total=len(future_to_idx),\n",
    "                           desc=f\"Processing {name} set\",\n",
    "                           ncols=80):\n",
    "            idx = future_to_idx[future]\n",
    "            try:\n",
    "                results[idx] = future.result()\n",
    "            except Exception as e:\n",
    "                results[idx] = 0\n",
    "\n",
    "    df['grok_prediction'] = results\n",
    "    if 'target' in df.columns:\n",
    "        metrics = calculate_metrics(df['target'], df['grok_prediction'], name)\n",
    "        df['grok_match'] = (df['grok_prediction'] == df['target']).astype(int)\n",
    "\n",
    "    return df\n",
    "\n",
    "def process_datasets_in_parallel(datasets, names, max_workers: int = 10):\n",
    "    results = {}\n",
    "    for df, name in zip(datasets, names):\n",
    "        print(f\"\\n--- Start {name} set ---\")\n",
    "        results[name] = process_dataset_multithread(df, name, max_workers=max_workers)\n",
    "    return results\n",
    "\n",
    "datasets = [m3]\n",
    "names = ['test']\n",
    "results = process_datasets_in_parallel(datasets, names, max_workers=8)\n",
    "\n",
    "results['test'].to_pickle(f'../../data/finetune/{dataset}/{dataset}_test_with_grok.pkl')\n",
    "\n",
    "for name, df in results.items():\n",
    "    calculate_metrics(df['target'], df['grok_prediction'], name)"
   ]
  }
 ],
 "metadata": {
  "kernelspec": {
   "display_name": "gemini",
   "language": "python",
   "name": "python3"
  },
  "language_info": {
   "codemirror_mode": {
    "name": "ipython",
    "version": 3
   },
   "file_extension": ".py",
   "mimetype": "text/x-python",
   "name": "python",
   "nbconvert_exporter": "python",
   "pygments_lexer": "ipython3",
   "version": "3.9.21"
  }
 },
 "nbformat": 4,
 "nbformat_minor": 5
}
